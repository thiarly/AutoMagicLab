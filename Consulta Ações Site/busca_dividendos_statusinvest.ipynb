{
 "cells": [
  {
   "cell_type": "code",
   "execution_count": 98,
   "id": "505a2060",
   "metadata": {},
   "outputs": [],
   "source": [
    "from selenium.webdriver.support import expected_conditions as EC\n",
    "from selenium.webdriver.support.ui import WebDriverWait\n",
    "from selenium.webdriver.common.keys import Keys\n",
    "from selenium.common.exceptions import TimeoutException\n",
    "\n",
    "from selenium import webdriver\n",
    "from selenium.webdriver.chrome.service import Service\n",
    "from webdriver_manager.chrome import ChromeDriverManager\n",
    "from selenium.webdriver.common.by import By\n",
    "import os\n",
    "import time\n",
    "\n",
    "\n",
    "servico = Service(ChromeDriverManager().install())\n",
    "driver= webdriver.Chrome(service=servico)\n",
    "\n",
    "\n",
    "arquivo = 'https://statusinvest.com.br/acoes/busca-avancada'\n",
    "driver.get(arquivo)\n",
    "#driver.maximize_window()\n",
    "time.sleep(2)"
   ]
  },
  {
   "cell_type": "code",
   "execution_count": 99,
   "id": "a5839834",
   "metadata": {},
   "outputs": [],
   "source": [
    "# Definindo o objeto WebDriverWait\n",
    "wait = WebDriverWait(driver, 7)"
   ]
  },
  {
   "cell_type": "code",
   "execution_count": 100,
   "id": "085e1483",
   "metadata": {},
   "outputs": [],
   "source": [
    "wait.until(EC.element_to_be_clickable((By.XPATH, '//*[@id=\"main-2\"]/div[3]/div/form/div[4]/div[1]/div/div[2]/div[1]/input'))).send_keys('6,00')\n",
    "wait.until(EC.element_to_be_clickable((By.XPATH, '//*[@id=\"main-2\"]/div[3]/div/div/div/button[2]'))).click()"
   ]
  },
  {
   "cell_type": "code",
   "execution_count": 101,
   "id": "23cca375",
   "metadata": {},
   "outputs": [],
   "source": [
    "# Aguarde a tabela de resultados ser carregada\n",
    "table = wait.until(EC.presence_of_element_located((By.TAG_NAME, 'table')))\n",
    "\n",
    "# Encontre o corpo da tabela\n",
    "tbody = table.find_element(By.TAG_NAME, \"tbody\")\n",
    "\n",
    "# Encontre as linhas da tabela\n",
    "rows = tbody.find_elements(By.TAG_NAME, \"tr\")\n",
    "\n",
    "# Imprima todas as linhas\n",
    "for row in rows[:10]:  # aqui pegamos apenas as primeiras 10 linhas\n",
    "    print(row.text)\n"
   ]
  }
 ],
 "metadata": {
  "kernelspec": {
   "display_name": "Python 3 (ipykernel)",
   "language": "python",
   "name": "python3"
  },
  "language_info": {
   "codemirror_mode": {
    "name": "ipython",
    "version": 3
   },
   "file_extension": ".py",
   "mimetype": "text/x-python",
   "name": "python",
   "nbconvert_exporter": "python",
   "pygments_lexer": "ipython3",
   "version": "3.11.3"
  }
 },
 "nbformat": 4,
 "nbformat_minor": 5
}
